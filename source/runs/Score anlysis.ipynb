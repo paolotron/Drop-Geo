{
 "cells": [
  {
   "cell_type": "code",
   "execution_count": 1,
   "outputs": [],
   "source": [
    "import glob\n",
    "\n",
    "import regex as re\n",
    "import numpy as np\n",
    "from pathlib import Path\n",
    "\n",
    "rg = f'Finished epoch (\\d*) in \\d+:(\\d+):\\d+, average epoch triplet loss = (\\d+.\\d+)\\\\n\\d+-\\d+-\\d+ \\d+:\\d+:\\d+   Recalls on val set < BaseDataset, pitts30k - #database: \\d+; #queries: \\d+ >: R@1: (\\d*.\\d), R@5: (\\d*.\\d), R@10: (\\d*.\\d), R@20: (\\d*.\\d)'\n",
    "rargs = f'[\\w_]+=\\[[\\d ,]+\\]|[\\w_]+=[^, )]+'"
   ],
   "metadata": {
    "collapsed": false,
    "pycharm": {
     "name": "#%%\n"
    }
   }
  },
  {
   "cell_type": "code",
   "execution_count": 2,
   "outputs": [],
   "source": [
    "filedepth = glob.glob('./*/*/*')\n",
    "res = []\n",
    "for d in filedepth:\n",
    "    if d.split('\\\\')[-1] == 'info.log':\n",
    "        with open(d) as fil:\n",
    "            text = ''.join(fil.readlines())\n",
    "            result = re.findall(rg, text, re.MULTILINE)\n",
    "            args = re.findall(rargs, text)\n",
    "            if result:\n",
    "                arg_dic = {a.split('=')[0]: a.split('=')[1] for a in args}\n",
    "                result = np.array([tuple(map(float, r)) for r in result])\n",
    "                exp_name = Path(d).parent.parent.name\n",
    "                res.append((arg_dic, result, exp_name))"
   ],
   "metadata": {
    "collapsed": false,
    "pycharm": {
     "name": "#%%\n"
    }
   }
  },
  {
   "cell_type": "markdown",
   "source": [
    "### NetVlad Analysis"
   ],
   "metadata": {
    "collapsed": false,
    "pycharm": {
     "name": "#%% md\n"
    }
   }
  },
  {
   "cell_type": "code",
   "execution_count": 21,
   "outputs": [],
   "source": [
    "import pandas as pd\n",
    "netvlad_data = list(filter(lambda x: x[2] == 'NetVlad_abl' and x[0]['netvlad_clusters'] != 'None', res))\n",
    "netvlad_data_last = [(data[0]['netvlad_clusters'], data[0]['lr'], data[1][-1,4], data[1][-1, 2]) for data in netvlad_data]\n",
    "netvlad_data_last = pd.DataFrame(netvlad_data_last, columns=['Netvlad Clusters', 'Learning Rate', 'R5 on val set', 'Last loss value'])"
   ],
   "metadata": {
    "collapsed": false,
    "pycharm": {
     "name": "#%%\n"
    }
   }
  },
  {
   "cell_type": "code",
   "source": [
    "netvlad_data_last"
   ],
   "metadata": {
    "collapsed": false,
    "pycharm": {
     "name": "#%%\n"
    }
   },
   "execution_count": 22,
   "outputs": [
    {
     "data": {
      "text/plain": "  Netvlad Clusters Learning Rate  R5 on val set  Last loss value\n0               64        0.0001           81.3           0.0592\n1               64         1e-05           34.0           0.0980\n2               64         1e-05           43.8           0.0964\n3               64         1e-06           25.0           0.0997\n4               32         1e-06           36.9           0.1003\n5               32         1e-05           75.3           0.0962\n6               32        0.0001           88.4           0.0390\n7               16         1e-05           83.2           0.0939\n8               16        0.0001           80.7           0.0865\n9               16         1e-06           72.7           0.0981",
      "text/html": "<div>\n<style scoped>\n    .dataframe tbody tr th:only-of-type {\n        vertical-align: middle;\n    }\n\n    .dataframe tbody tr th {\n        vertical-align: top;\n    }\n\n    .dataframe thead th {\n        text-align: right;\n    }\n</style>\n<table border=\"1\" class=\"dataframe\">\n  <thead>\n    <tr style=\"text-align: right;\">\n      <th></th>\n      <th>Netvlad Clusters</th>\n      <th>Learning Rate</th>\n      <th>R5 on val set</th>\n      <th>Last loss value</th>\n    </tr>\n  </thead>\n  <tbody>\n    <tr>\n      <th>0</th>\n      <td>64</td>\n      <td>0.0001</td>\n      <td>81.3</td>\n      <td>0.0592</td>\n    </tr>\n    <tr>\n      <th>1</th>\n      <td>64</td>\n      <td>1e-05</td>\n      <td>34.0</td>\n      <td>0.0980</td>\n    </tr>\n    <tr>\n      <th>2</th>\n      <td>64</td>\n      <td>1e-05</td>\n      <td>43.8</td>\n      <td>0.0964</td>\n    </tr>\n    <tr>\n      <th>3</th>\n      <td>64</td>\n      <td>1e-06</td>\n      <td>25.0</td>\n      <td>0.0997</td>\n    </tr>\n    <tr>\n      <th>4</th>\n      <td>32</td>\n      <td>1e-06</td>\n      <td>36.9</td>\n      <td>0.1003</td>\n    </tr>\n    <tr>\n      <th>5</th>\n      <td>32</td>\n      <td>1e-05</td>\n      <td>75.3</td>\n      <td>0.0962</td>\n    </tr>\n    <tr>\n      <th>6</th>\n      <td>32</td>\n      <td>0.0001</td>\n      <td>88.4</td>\n      <td>0.0390</td>\n    </tr>\n    <tr>\n      <th>7</th>\n      <td>16</td>\n      <td>1e-05</td>\n      <td>83.2</td>\n      <td>0.0939</td>\n    </tr>\n    <tr>\n      <th>8</th>\n      <td>16</td>\n      <td>0.0001</td>\n      <td>80.7</td>\n      <td>0.0865</td>\n    </tr>\n    <tr>\n      <th>9</th>\n      <td>16</td>\n      <td>1e-06</td>\n      <td>72.7</td>\n      <td>0.0981</td>\n    </tr>\n  </tbody>\n</table>\n</div>"
     },
     "execution_count": 22,
     "metadata": {},
     "output_type": "execute_result"
    }
   ]
  },
  {
   "cell_type": "markdown",
   "source": [
    "We can see that lower number of clusters and higher learning rate tend to give better results, the higher learning rate could be an effect of training for only 20 epochs"
   ],
   "metadata": {
    "collapsed": false,
    "pycharm": {
     "name": "#%% md\n"
    }
   }
  },
  {
   "cell_type": "code",
   "source": [
    "loss_data = [(el[1][:, [0, 2]], el[0]['netvlad_clusters']) for el in netvlad_data]"
   ],
   "metadata": {
    "collapsed": false,
    "pycharm": {
     "name": "#%%\n"
    }
   },
   "execution_count": 11,
   "outputs": []
  },
  {
   "cell_type": "code",
   "execution_count": 19,
   "outputs": [
    {
     "data": {
      "text/plain": "<Figure size 432x288 with 1 Axes>",
      "image/png": "[encoded data removed]"
     },
     "metadata": {
      "needs_background": "light"
     },
     "output_type": "display_data"
    }
   ],
   "source": [
    "import matplotlib.pyplot as plt\n",
    "plt.xticks(range(20))\n",
    "plt.xlabel('epoch')\n",
    "plt.ylabel('loss')\n",
    "plt.grid()\n",
    "color = {'16': 'r', '32': 'g', '64': 'b'}\n",
    "for data in loss_data:\n",
    "    plt.plot(data[0][:, 0], data[0][:, 1], color[data[1]])"
   ],
   "metadata": {
    "collapsed": false,
    "pycharm": {
     "name": "#%%\n"
    }
   }
  },
  {
   "cell_type": "markdown",
   "source": [
    "We can see that loss values highly depend on the learning rate, the lower number of clusters brings high loss values\n",
    "but also good recall values with a very low number of epochs, this means that for high scoring training we can use\n",
    "higher number of kernels while for 'good enough' trainings that are time-constrained we can use a low number of\n",
    "kernels\n",
    "For now the best model found is 32 clusters with learning rate 1e-4"
   ],
   "metadata": {
    "collapsed": false,
    "pycharm": {
     "name": "#%% md\n"
    }
   }
  },
  {
   "cell_type": "markdown",
   "source": [
    "### GeM Analysis"
   ],
   "metadata": {
    "collapsed": false,
    "pycharm": {
     "name": "#%% md\n"
    }
   }
  },
  {
   "cell_type": "code",
   "execution_count": 24,
   "outputs": [],
   "source": [
    "gem_data = list(filter(lambda x: x[2] == 'GeM_Ablation_Tests' and x[0]['gem_power'] != 'None', res))"
   ],
   "metadata": {
    "collapsed": false,
    "pycharm": {
     "name": "#%%\n"
    }
   }
  },
  {
   "cell_type": "markdown",
   "source": [
    "### Alternative Optimizers analys"
   ],
   "metadata": {
    "collapsed": false,
    "pycharm": {
     "name": "#%% md\n"
    }
   }
  },
  {
   "cell_type": "code",
   "execution_count": 26,
   "outputs": [],
   "source": [
    "sdg_data = list(filter(lambda x: x[2] == 'NetVlad_sdg', res))"
   ],
   "metadata": {
    "collapsed": false,
    "pycharm": {
     "name": "#%%\n"
    }
   }
  },
  {
   "cell_type": "code",
   "execution_count": null,
   "outputs": [],
   "source": [],
   "metadata": {
    "collapsed": false,
    "pycharm": {
     "name": "#%%\n"
    }
   }
  }
 ],
 "metadata": {
  "kernelspec": {
   "display_name": "Python 3",
   "language": "python",
   "name": "python3"
  },
  "language_info": {
   "codemirror_mode": {
    "name": "ipython",
    "version": 2
   },
   "file_extension": ".py",
   "mimetype": "text/x-python",
   "name": "python",
   "nbconvert_exporter": "python",
   "pygments_lexer": "ipython2",
   "version": "2.7.6"
  }
 },
 "nbformat": 4,
 "nbformat_minor": 0
}